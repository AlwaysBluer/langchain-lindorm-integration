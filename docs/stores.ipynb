{
 "cells": [
  {
   "cell_type": "raw",
   "metadata": {
    "vscode": {
     "languageId": "raw"
    }
   },
   "source": [
    "---\n",
    "sidebar_label: LindormIntegrationByteStore\n",
    "---"
   ]
  },
  {
   "cell_type": "markdown",
   "metadata": {},
   "source": [
    "# LindormByteStore\n",
    "LindormByteStore is based on [Lindorm Search Engine](https://help.aliyun.com/document_detail/174606.html?spm=a2c4g.11186623.help-menu-172543.d_2_3.4a884098HDZpBP&scm=20140722.H_174606._.OR_help-T_cn~zh-V_1)\n",
    "\n",
    "## Overview\n",
    "function\n",
    "* mset: Set the values for the given keys.\n",
    "* mget: Get the values associated with the given keys.\n",
    "* mdelete: Delete the given keys and their associated values.\n",
    "* yield_keys: Get an iterator over keys that match the given prefix.\n",
    "* delete_index: Deletes a given index from vectorstore.\n",
    "\n",
    "\n",
    "### Integration details\n",
    "| Provider |              Package              |\n",
    "|:--------:|:---------------------------------:|\n",
    "| [Lindorm](/docs/integrations/providers/lindorm/) | [langchain-lindorm-integration](https://pypi.org/manage/projects/) |\n",
    "\n",
    "## Setup\n",
    "\n",
    "To create a LindormIntegration byte store, you'll need to create a/an LindormIntegration account, get the ak/sk, and install the `langchain-lindorm-integration` integration package.\n",
    "\n",
    "### Credentials\n",
    "\n",
    "Head to [here](https://signin.aliyun.com/1498036927749449.onaliyun.com/login.htm?callback=https%3A%2F%2Flindorm.console.aliyun.com%2Fcn-hangzhou%2Fclusterhou%2Fcluster%3Fspm%3Da2c4g.11186623.0.0.1a23456fMUSE78&accounttraceid=7b21f7d5e9d848e7ad32d7b41bd71420jdws&cspNonce=0TK4RLMJDT&oauth_callback=https%3A%2F%2Flindorm.console.aliyun.com%2Fcn-hangzhou%2Fclusterhou%2Fcluster%3Fspm%3Da2c4g.11186623.0.0.1a23456fMUSE78&spma=a2c44&spmb=11131515#/main) to sign up to LindormIntegration and generate an API key. Once you've done this set the LINDORMINTEGRATION_API_KEY environment variable:\n",
    "\n",
    "\n",
    "\n"
   ]
  },
  {
   "cell_type": "code",
   "execution_count": null,
   "metadata": {},
   "outputs": [],
   "source": [
    "import os\n",
    "\n",
    "class Config:\n",
    "    SEARCH_ENDPOINT = os.environ.get(\"SEARCH_ENDPOINT\", \"SEARCH_ENDPOINT\")\n",
    "    SEARCH_USERNAME = os.environ.get(\"SEARCH_USERNAME\", \"root\")\n",
    "    SEARCH_PWD = os.environ.get(\"SEARCH_PWD\", \"<PASSWORD>\")\n",
    "\n",
    "\n",
    "DEFAULT_BUILD_PARAMS = {\n",
    "    \"lindorm_search_url\": Config.SEARCH_ENDPOINT,\n",
    "    \"http_auth\": (Config.SEARCH_USERNAME, Config.SEARCH_PWD),\n",
    "    \"use_ssl\": False,\n",
    "    \"verify_certs\": False,\n",
    "    \"ssl_assert_hostname\": False,\n",
    "    \"ssl_show_warn\": False,\n",
    "    \"bulk_size\": 10000,\n",
    "    \"timeout\": 30\n",
    "}"
   ]
  },
  {
   "cell_type": "markdown",
   "metadata": {},
   "source": [
    "### Installation\n",
    "\n",
    "The LangChain LindormIntegration integration lives in the `langchain-lindorm-integration` package:"
   ]
  },
  {
   "cell_type": "code",
   "execution_count": null,
   "metadata": {},
   "outputs": [],
   "source": [
    "%pip install -qU langchain-lindorm-integration"
   ]
  },
  {
   "cell_type": "markdown",
   "metadata": {},
   "source": [
    "## Instantiation\n",
    "\n",
    "Now we can instantiate our byte store:\n"
   ]
  },
  {
   "cell_type": "code",
   "execution_count": null,
   "metadata": {},
   "outputs": [],
   "source": [
    "from langchain_lindorm_integration import LindormByteStore\n",
    "\n",
    "index_name=\"bytestore_test\"\n",
    "DEFAULT_BUILD_PARAMS[\"index_name\"] = index_name\n",
    "kv_store = LindormByteStore(**DEFAULT_BUILD_PARAMS)"
   ]
  },
  {
   "cell_type": "markdown",
   "metadata": {},
   "source": [
    "## Usage\n",
    "\n",
    "- TODO: Run cells so output can be seen.\n",
    "\n",
    "You can set data under keys like this using the `mset` method:"
   ]
  },
  {
   "cell_type": "code",
   "execution_count": null,
   "metadata": {},
   "outputs": [],
   "source": [
    "kv_store.mset(\n",
    "    [\n",
    "        [\"key1\", b\"value1\"],\n",
    "        [\"key2\", b\"value2\"],\n",
    "    ]\n",
    ")\n",
    "\n",
    "kv_store.mget(\n",
    "    [\n",
    "        \"key1\",\n",
    "        \"key2\",\n",
    "    ]\n",
    ")"
   ]
  },
  {
   "cell_type": "markdown",
   "metadata": {},
   "source": [
    "And you can delete data using the `mdelete` method:"
   ]
  },
  {
   "cell_type": "code",
   "execution_count": null,
   "metadata": {},
   "outputs": [],
   "source": [
    "kv_store.mdelete(\n",
    "    [\n",
    "        \"key1\",\n",
    "        \"key2\",\n",
    "    ]\n",
    ")\n",
    "\n",
    "kv_store.mget(\n",
    "    [\n",
    "        \"key1\",\n",
    "        \"key2\",\n",
    "    ]\n",
    ")"
   ]
  },
  {
   "cell_type": "markdown",
   "metadata": {},
   "source": [
    "## API reference\n",
    "\n",
    "For detailed documentation of all LindormIntegrationByteStore features and configurations, head to the API reference: https://pypi.org/project/langchain-lindorm-integration/"
   ]
  }
 ],
 "metadata": {
  "kernelspec": {
   "display_name": "Python 3",
   "language": "python",
   "name": "python3"
  },
  "language_info": {
   "name": "python",
   "version": "3.10.5"
  }
 },
 "nbformat": 4,
 "nbformat_minor": 2
}
