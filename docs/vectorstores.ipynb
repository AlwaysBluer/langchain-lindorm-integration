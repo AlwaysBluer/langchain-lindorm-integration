{
 "cells": [
  {
   "cell_type": "raw",
   "id": "1957f5cb",
   "metadata": {},
   "source": [
    "---\n",
    "sidebar_label: LindormIntegration\n",
    "---"
   ]
  },
  {
   "cell_type": "markdown",
   "id": "ef1f0986",
   "metadata": {},
   "source": [
    "# LindormVectorStore\n",
    "\n",
    "This notebook covers how to get started with the Lindorm vector store."
   ]
  },
  {
   "cell_type": "markdown",
   "id": "36fdc060",
   "metadata": {},
   "source": [
    "## Setup\n",
    "Lindorm is a multimodal database from Alibaba-cloud.It supports full-text search, vector search and hybrid search. To start Lindorm VectorService, you should have an Alibaba-cloud account and purchase Lindorm database service. Note that SearchEngine and VectorEngine are both required if you want to use Lindorm vector search service. You can find more detailed information on this tutorial\n",
    "You should install opensearch package and install the `langchain-lindorm-integration` integration package."
   ]
  },
  {
   "metadata": {},
   "cell_type": "code",
   "outputs": [],
   "execution_count": null,
   "source": "%pip install -qU \"langchain-lindorm-integration\"",
   "id": "8e95f5c0c875cf23"
  },
  {
   "cell_type": "markdown",
   "id": "9695dee7",
   "metadata": {},
   "source": "### Credentials\n"
  },
  {
   "cell_type": "code",
   "execution_count": null,
   "id": "894c30e4",
   "metadata": {},
   "outputs": [],
   "source": [
    "import os\n",
    "\n",
    "class Config:\n",
    "    SEARCH_ENDPOINT = os.environ.get(\"SEARCH_ENDPOINT\", \"SEARCH_ENDPOINT\")\n",
    "    SEARCH_USERNAME = os.environ.get(\"SEARCH_USERNAME\", \"root\")\n",
    "    SEARCH_PWD = os.environ.get(\"SEARCH_PASSWORD\", \"<PASSWORD>\")\n",
    "    AI_LLM_ENDPOINT = os.environ.get(\"AI_ENDPOINT\", \"<AI_ENDPOINT>\")\n",
    "    AI_USERNAME = os.environ.get(\"AI_USERNAME\", \"root\")\n",
    "    AI_PWD = os.environ.get(\"AI_PASSWORD\", \"<PASSWORD>\")\n",
    "    AI_DEFAULT_EMBEDDING_MODEL = \"bge_m3_model\"  # set to your model"
   ]
  },
  {
   "cell_type": "markdown",
   "id": "93df377e",
   "metadata": {},
   "source": "## Initialization\n"
  },
  {
   "cell_type": "code",
   "execution_count": null,
   "id": "dc37144c-208d-4ab3-9f3a-0407a69fe052",
   "metadata": {
    "tags": []
   },
   "outputs": [],
   "source": [
    "from langchain_lindorm_integration.vectorstores import LindormVectorStore\n",
    "from langchain_lindorm_integration.embeddings import LindormAIEmbeddings\n",
    "\n",
    "embeddings = LindormAIEmbeddings(\n",
    "    endpoint=Config.AI_LLM_ENDPOINT,\n",
    "    username=Config.AI_USERNAME,\n",
    "    password=Config.AI_PWD,\n",
    "    model_name=Config.AI_DEFAULT_EMBEDDING_MODEL,\n",
    ")\n",
    "\n",
    "index = \"test_index\"\n",
    "vector = embeddings.embed_query(\"hello word\")\n",
    "dimension = len(vector)\n",
    "vector_store = LindormVectorStore(\n",
    "    lindorm_search_url=Config.SEARCH_ENDPOINT,\n",
    "    embedding=embeddings,\n",
    "    http_auth=(Config.SEARCH_USERNAME, Config.SEARCH_PWD),\n",
    "    dimension=dimension,\n",
    "    embeddings=embeddings,\n",
    "    index_name=index,\n",
    ")\n"
   ]
  },
  {
   "cell_type": "markdown",
   "id": "ac6071d4",
   "metadata": {},
   "source": [
    "## Manage vector store\n",
    "\n",
    "### Add items to vector store\n"
   ]
  },
  {
   "cell_type": "code",
   "execution_count": null,
   "id": "17f5efc0",
   "metadata": {},
   "outputs": [],
   "source": [
    "from langchain_core.documents import Document\n",
    "\n",
    "document_1 = Document(\n",
    "    page_content=\"foo\",\n",
    "    metadata={\"source\": \"https://example.com\"}\n",
    ")\n",
    "\n",
    "document_2 = Document(\n",
    "    page_content=\"bar\",\n",
    "    metadata={\"source\": \"https://example.com\"}\n",
    ")\n",
    "\n",
    "document_3 = Document(\n",
    "    page_content=\"baz\",\n",
    "    metadata={\"source\": \"https://example.com\"}\n",
    ")\n",
    "\n",
    "documents = [document_1, document_2, document_3]\n",
    "\n",
    "vector_store.add_documents(documents=documents,ids=[\"1\",\"2\",\"3\"])"
   ]
  },
  {
   "cell_type": "markdown",
   "id": "dcf1b905",
   "metadata": {},
   "source": "### Delete items from vector store\n"
  },
  {
   "cell_type": "code",
   "execution_count": null,
   "id": "ef61e188",
   "metadata": {},
   "outputs": [],
   "source": [
    "vector_store.delete(ids=[\"3\"])"
   ]
  },
  {
   "cell_type": "markdown",
   "id": "c3620501",
   "metadata": {},
   "source": [
    "## Query vector store\n",
    "\n",
    "Once your vector store has been created and the relevant documents have been added you will most likely wish to query it during the running of your chain or agent. \n",
    "\n",
    "### Query directly\n",
    "\n",
    "Performing a simple similarity search can be done as follows:\n"
   ]
  },
  {
   "cell_type": "code",
   "execution_count": null,
   "id": "aa0a16fa",
   "metadata": {},
   "outputs": [],
   "source": [
    "results = vector_store.similarity_search(query=\"thud\",k=1)\n",
    "for doc in results:\n",
    "    print(f\"* {doc.page_content} [{doc.metadata}]\")"
   ]
  },
  {
   "cell_type": "markdown",
   "id": "3ed9d733",
   "metadata": {},
   "source": "If you want to execute a similarity search and receive the corresponding scores you can run:\n"
  },
  {
   "cell_type": "code",
   "execution_count": null,
   "id": "5efd2eaa",
   "metadata": {},
   "outputs": [],
   "source": [
    "results = vector_store.similarity_search_with_score(query=\"thud\",k=1)\n",
    "for doc, score in results:\n",
    "    print(f\"* [SIM={score:3f}] {doc.page_content} [{doc.metadata}]\")"
   ]
  },
  {
   "cell_type": "markdown",
   "id": "901c75dc",
   "metadata": {},
   "source": [
    "## Usage for retrieval-augmented generation\n",
    "\n",
    "For guides on how to use this vector store for retrieval-augmented generation (RAG), see the following sections:\n",
    "\n",
    "- [Tutorials](/docs/tutorials/)\n",
    "- [How-to: Question and answer with RAG](https://python.langchain.com/docs/how_to/#qa-with-rag)\n",
    "- [Retrieval conceptual docs](https://python.langchain.com/docs/concepts/#retrieval)"
   ]
  },
  {
   "cell_type": "markdown",
   "id": "8a27244f",
   "metadata": {},
   "source": [
    "## API reference\n",
    "\n",
    "For detailed documentation of all LindormIntegrationVectorStore features and configurations head to [the API reference](https://pypi.org/project/langchain-lindorm-integration/)"
   ]
  }
 ],
 "metadata": {
  "kernelspec": {
   "display_name": "Python 3 (ipykernel)",
   "language": "python",
   "name": "python3"
  },
  "language_info": {
   "codemirror_mode": {
    "name": "ipython",
    "version": 3
   },
   "file_extension": ".py",
   "mimetype": "text/x-python",
   "name": "python",
   "nbconvert_exporter": "python",
   "pygments_lexer": "ipython3",
   "version": "3.10.12"
  }
 },
 "nbformat": 4,
 "nbformat_minor": 5
}
